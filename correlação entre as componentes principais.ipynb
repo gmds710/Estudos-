{
 "cells": [
  {
   "cell_type": "code",
   "execution_count": 50,
   "metadata": {},
   "outputs": [],
   "source": [
    "import pandas as pd\n",
    "import matplotlib.pyplot as plt\n",
    "import numpy as pn\n",
    "import seaborn as sns\n",
    "\n",
    "from google.cloud import bigquery\n",
    "from google.oauth2 import service_account\n"
   ]
  },
  {
   "cell_type": "code",
   "execution_count": 51,
   "metadata": {},
   "outputs": [],
   "source": [
    "query = \"select * from `tim-bigdata-****************` \"\n",
    "\n",
    "credentials = service_account.Credentials.from_service_account_file(filename='chave.json', \n",
    "                                                                 scopes=[\"https://www.googleapis.com/auth/cloud-platform\"])\n"
   ]
  },
  {
   "cell_type": "code",
   "execution_count": 52,
   "metadata": {
    "scrolled": true
   },
   "outputs": [
    {
     "name": "stderr",
     "output_type": "stream",
     "text": [
      "C:\\ProgramData\\Anaconda3\\lib\\site-packages\\google\\cloud\\bigquery\\table.py:2007: UserWarning: A progress bar was requested, but there was an error loading the tqdm library. Please install tqdm to use the progress bar functionality.\n",
      "  record_batch = self.to_arrow(\n"
     ]
    },
    {
     "data": {
      "text/html": [
       "<div>\n",
       "<style scoped>\n",
       "    .dataframe tbody tr th:only-of-type {\n",
       "        vertical-align: middle;\n",
       "    }\n",
       "\n",
       "    .dataframe tbody tr th {\n",
       "        vertical-align: top;\n",
       "    }\n",
       "\n",
       "    .dataframe thead th {\n",
       "        text-align: right;\n",
       "    }\n",
       "</style>\n",
       "<table border=\"1\" class=\"dataframe\">\n",
       "  <thead>\n",
       "    <tr style=\"text-align: right;\">\n",
       "      <th></th>\n",
       "      <th>ACCID</th>\n",
       "      <th>Regional</th>\n",
       "      <th>DCC</th>\n",
       "      <th>VIA</th>\n",
       "      <th>flg_link_novo</th>\n",
       "      <th>Mean_MAX_Traffic_kbps</th>\n",
       "      <th>Std_MAX_Traffic_kbps</th>\n",
       "      <th>Var_MAX_Traffic_kbps</th>\n",
       "      <th>Mean_Availability_Avg</th>\n",
       "      <th>Mean_latencia_trat</th>\n",
       "      <th>Availability_MENOR_95</th>\n",
       "      <th>Availability_MAIOR_95</th>\n",
       "      <th>QTD_DIAS</th>\n",
       "      <th>Availability_MENOR_95_PERC</th>\n",
       "      <th>Availability_MAIOR_95_PERC</th>\n",
       "    </tr>\n",
       "  </thead>\n",
       "  <tbody>\n",
       "    <tr>\n",
       "      <th>0</th>\n",
       "      <td>598943</td>\n",
       "      <td>TLE</td>\n",
       "      <td>BHE</td>\n",
       "      <td>VIA3</td>\n",
       "      <td>1.0</td>\n",
       "      <td>4.916501e+06</td>\n",
       "      <td>4.053484e+06</td>\n",
       "      <td>1.643073e+13</td>\n",
       "      <td>0.974004</td>\n",
       "      <td>8.0</td>\n",
       "      <td>2.0</td>\n",
       "      <td>15.0</td>\n",
       "      <td>17.0</td>\n",
       "      <td>0.117647</td>\n",
       "      <td>0.882353</td>\n",
       "    </tr>\n",
       "    <tr>\n",
       "      <th>1</th>\n",
       "      <td>598636</td>\n",
       "      <td>TLE</td>\n",
       "      <td>BHE</td>\n",
       "      <td>VIA1</td>\n",
       "      <td>1.0</td>\n",
       "      <td>2.051834e+07</td>\n",
       "      <td>7.978786e+06</td>\n",
       "      <td>6.366102e+13</td>\n",
       "      <td>0.990351</td>\n",
       "      <td>16.0</td>\n",
       "      <td>1.0</td>\n",
       "      <td>23.0</td>\n",
       "      <td>24.0</td>\n",
       "      <td>0.041667</td>\n",
       "      <td>0.958333</td>\n",
       "    </tr>\n",
       "    <tr>\n",
       "      <th>2</th>\n",
       "      <td>598636</td>\n",
       "      <td>TNE</td>\n",
       "      <td>SDR</td>\n",
       "      <td>VIA1</td>\n",
       "      <td>1.0</td>\n",
       "      <td>2.055947e+07</td>\n",
       "      <td>7.933603e+06</td>\n",
       "      <td>6.294205e+13</td>\n",
       "      <td>0.990351</td>\n",
       "      <td>16.0</td>\n",
       "      <td>1.0</td>\n",
       "      <td>23.0</td>\n",
       "      <td>24.0</td>\n",
       "      <td>0.041667</td>\n",
       "      <td>0.958333</td>\n",
       "    </tr>\n",
       "    <tr>\n",
       "      <th>3</th>\n",
       "      <td>574441</td>\n",
       "      <td>TNE</td>\n",
       "      <td>SDR</td>\n",
       "      <td>VIA3</td>\n",
       "      <td>0.0</td>\n",
       "      <td>3.453824e+07</td>\n",
       "      <td>1.255484e+07</td>\n",
       "      <td>1.576240e+14</td>\n",
       "      <td>0.998000</td>\n",
       "      <td>12.0</td>\n",
       "      <td>0.0</td>\n",
       "      <td>40.0</td>\n",
       "      <td>40.0</td>\n",
       "      <td>0.000000</td>\n",
       "      <td>1.000000</td>\n",
       "    </tr>\n",
       "    <tr>\n",
       "      <th>4</th>\n",
       "      <td>566788</td>\n",
       "      <td>TNE</td>\n",
       "      <td>SDR</td>\n",
       "      <td>VIA2</td>\n",
       "      <td>0.0</td>\n",
       "      <td>2.007715e+07</td>\n",
       "      <td>6.024951e+06</td>\n",
       "      <td>3.630003e+13</td>\n",
       "      <td>0.983391</td>\n",
       "      <td>15.0</td>\n",
       "      <td>3.0</td>\n",
       "      <td>37.0</td>\n",
       "      <td>40.0</td>\n",
       "      <td>0.075000</td>\n",
       "      <td>0.925000</td>\n",
       "    </tr>\n",
       "    <tr>\n",
       "      <th>...</th>\n",
       "      <td>...</td>\n",
       "      <td>...</td>\n",
       "      <td>...</td>\n",
       "      <td>...</td>\n",
       "      <td>...</td>\n",
       "      <td>...</td>\n",
       "      <td>...</td>\n",
       "      <td>...</td>\n",
       "      <td>...</td>\n",
       "      <td>...</td>\n",
       "      <td>...</td>\n",
       "      <td>...</td>\n",
       "      <td>...</td>\n",
       "      <td>...</td>\n",
       "      <td>...</td>\n",
       "    </tr>\n",
       "    <tr>\n",
       "      <th>118</th>\n",
       "      <td>97034</td>\n",
       "      <td>TNO</td>\n",
       "      <td>BLM</td>\n",
       "      <td>VIA5</td>\n",
       "      <td>0.0</td>\n",
       "      <td>3.521712e+07</td>\n",
       "      <td>2.592217e+07</td>\n",
       "      <td>6.719588e+14</td>\n",
       "      <td>0.604195</td>\n",
       "      <td>28.0</td>\n",
       "      <td>47.0</td>\n",
       "      <td>14.0</td>\n",
       "      <td>61.0</td>\n",
       "      <td>0.770492</td>\n",
       "      <td>0.229508</td>\n",
       "    </tr>\n",
       "    <tr>\n",
       "      <th>119</th>\n",
       "      <td>43367/00696</td>\n",
       "      <td>TNO</td>\n",
       "      <td>BLM</td>\n",
       "      <td>VIA3</td>\n",
       "      <td>0.0</td>\n",
       "      <td>4.541501e+07</td>\n",
       "      <td>1.839337e+07</td>\n",
       "      <td>3.383161e+14</td>\n",
       "      <td>0.947059</td>\n",
       "      <td>22.0</td>\n",
       "      <td>10.0</td>\n",
       "      <td>51.0</td>\n",
       "      <td>61.0</td>\n",
       "      <td>0.163934</td>\n",
       "      <td>0.836066</td>\n",
       "    </tr>\n",
       "    <tr>\n",
       "      <th>120</th>\n",
       "      <td>43367/00702</td>\n",
       "      <td>TNO</td>\n",
       "      <td>BLM</td>\n",
       "      <td>VIA3</td>\n",
       "      <td>0.0</td>\n",
       "      <td>4.579781e+07</td>\n",
       "      <td>1.903158e+07</td>\n",
       "      <td>3.622012e+14</td>\n",
       "      <td>0.946531</td>\n",
       "      <td>22.0</td>\n",
       "      <td>10.0</td>\n",
       "      <td>51.0</td>\n",
       "      <td>61.0</td>\n",
       "      <td>0.163934</td>\n",
       "      <td>0.836066</td>\n",
       "    </tr>\n",
       "    <tr>\n",
       "      <th>121</th>\n",
       "      <td>585934</td>\n",
       "      <td>TNO</td>\n",
       "      <td>BLM</td>\n",
       "      <td>VIA4</td>\n",
       "      <td>0.0</td>\n",
       "      <td>4.107983e+07</td>\n",
       "      <td>2.574718e+07</td>\n",
       "      <td>6.629174e+14</td>\n",
       "      <td>0.870673</td>\n",
       "      <td>21.0</td>\n",
       "      <td>14.0</td>\n",
       "      <td>47.0</td>\n",
       "      <td>61.0</td>\n",
       "      <td>0.229508</td>\n",
       "      <td>0.770492</td>\n",
       "    </tr>\n",
       "    <tr>\n",
       "      <th>122</th>\n",
       "      <td>573792</td>\n",
       "      <td>TNO</td>\n",
       "      <td>BLM</td>\n",
       "      <td>VIA1</td>\n",
       "      <td>0.0</td>\n",
       "      <td>1.553630e+07</td>\n",
       "      <td>1.627918e+07</td>\n",
       "      <td>2.650116e+14</td>\n",
       "      <td>0.540089</td>\n",
       "      <td>26.0</td>\n",
       "      <td>45.0</td>\n",
       "      <td>16.0</td>\n",
       "      <td>61.0</td>\n",
       "      <td>0.737705</td>\n",
       "      <td>0.262295</td>\n",
       "    </tr>\n",
       "  </tbody>\n",
       "</table>\n",
       "<p>123 rows × 15 columns</p>\n",
       "</div>"
      ],
      "text/plain": [
       "           ACCID Regional  DCC   VIA  flg_link_novo  Mean_MAX_Traffic_kbps  \\\n",
       "0         598943      TLE  BHE  VIA3            1.0           4.916501e+06   \n",
       "1         598636      TLE  BHE  VIA1            1.0           2.051834e+07   \n",
       "2         598636      TNE  SDR  VIA1            1.0           2.055947e+07   \n",
       "3         574441      TNE  SDR  VIA3            0.0           3.453824e+07   \n",
       "4         566788      TNE  SDR  VIA2            0.0           2.007715e+07   \n",
       "..           ...      ...  ...   ...            ...                    ...   \n",
       "118        97034      TNO  BLM  VIA5            0.0           3.521712e+07   \n",
       "119  43367/00696      TNO  BLM  VIA3            0.0           4.541501e+07   \n",
       "120  43367/00702      TNO  BLM  VIA3            0.0           4.579781e+07   \n",
       "121       585934      TNO  BLM  VIA4            0.0           4.107983e+07   \n",
       "122       573792      TNO  BLM  VIA1            0.0           1.553630e+07   \n",
       "\n",
       "     Std_MAX_Traffic_kbps  Var_MAX_Traffic_kbps  Mean_Availability_Avg  \\\n",
       "0            4.053484e+06          1.643073e+13               0.974004   \n",
       "1            7.978786e+06          6.366102e+13               0.990351   \n",
       "2            7.933603e+06          6.294205e+13               0.990351   \n",
       "3            1.255484e+07          1.576240e+14               0.998000   \n",
       "4            6.024951e+06          3.630003e+13               0.983391   \n",
       "..                    ...                   ...                    ...   \n",
       "118          2.592217e+07          6.719588e+14               0.604195   \n",
       "119          1.839337e+07          3.383161e+14               0.947059   \n",
       "120          1.903158e+07          3.622012e+14               0.946531   \n",
       "121          2.574718e+07          6.629174e+14               0.870673   \n",
       "122          1.627918e+07          2.650116e+14               0.540089   \n",
       "\n",
       "     Mean_latencia_trat  Availability_MENOR_95  Availability_MAIOR_95  \\\n",
       "0                   8.0                    2.0                   15.0   \n",
       "1                  16.0                    1.0                   23.0   \n",
       "2                  16.0                    1.0                   23.0   \n",
       "3                  12.0                    0.0                   40.0   \n",
       "4                  15.0                    3.0                   37.0   \n",
       "..                  ...                    ...                    ...   \n",
       "118                28.0                   47.0                   14.0   \n",
       "119                22.0                   10.0                   51.0   \n",
       "120                22.0                   10.0                   51.0   \n",
       "121                21.0                   14.0                   47.0   \n",
       "122                26.0                   45.0                   16.0   \n",
       "\n",
       "     QTD_DIAS  Availability_MENOR_95_PERC  Availability_MAIOR_95_PERC  \n",
       "0        17.0                    0.117647                    0.882353  \n",
       "1        24.0                    0.041667                    0.958333  \n",
       "2        24.0                    0.041667                    0.958333  \n",
       "3        40.0                    0.000000                    1.000000  \n",
       "4        40.0                    0.075000                    0.925000  \n",
       "..        ...                         ...                         ...  \n",
       "118      61.0                    0.770492                    0.229508  \n",
       "119      61.0                    0.163934                    0.836066  \n",
       "120      61.0                    0.163934                    0.836066  \n",
       "121      61.0                    0.229508                    0.770492  \n",
       "122      61.0                    0.737705                    0.262295  \n",
       "\n",
       "[123 rows x 15 columns]"
      ]
     },
     "execution_count": 52,
     "metadata": {},
     "output_type": "execute_result"
    }
   ],
   "source": [
    "df = pd.read_gbq(credentials=credentials, query=query)\n",
    "df"
   ]
  },
  {
   "cell_type": "code",
   "execution_count": 53,
   "metadata": {
    "scrolled": true
   },
   "outputs": [
    {
     "data": {
      "text/html": [
       "<div>\n",
       "<style scoped>\n",
       "    .dataframe tbody tr th:only-of-type {\n",
       "        vertical-align: middle;\n",
       "    }\n",
       "\n",
       "    .dataframe tbody tr th {\n",
       "        vertical-align: top;\n",
       "    }\n",
       "\n",
       "    .dataframe thead th {\n",
       "        text-align: right;\n",
       "    }\n",
       "</style>\n",
       "<table border=\"1\" class=\"dataframe\">\n",
       "  <thead>\n",
       "    <tr style=\"text-align: right;\">\n",
       "      <th></th>\n",
       "      <th>ACCID</th>\n",
       "      <th>Mean_MAX_Traffic_kbps</th>\n",
       "      <th>Std_MAX_Traffic_kbps</th>\n",
       "      <th>Var_MAX_Traffic_kbps</th>\n",
       "    </tr>\n",
       "  </thead>\n",
       "  <tbody>\n",
       "    <tr>\n",
       "      <th>0</th>\n",
       "      <td>598943</td>\n",
       "      <td>4.916501e+06</td>\n",
       "      <td>4.053484e+06</td>\n",
       "      <td>1.643073e+13</td>\n",
       "    </tr>\n",
       "    <tr>\n",
       "      <th>1</th>\n",
       "      <td>598636</td>\n",
       "      <td>2.051834e+07</td>\n",
       "      <td>7.978786e+06</td>\n",
       "      <td>6.366102e+13</td>\n",
       "    </tr>\n",
       "    <tr>\n",
       "      <th>2</th>\n",
       "      <td>598636</td>\n",
       "      <td>2.055947e+07</td>\n",
       "      <td>7.933603e+06</td>\n",
       "      <td>6.294205e+13</td>\n",
       "    </tr>\n",
       "    <tr>\n",
       "      <th>3</th>\n",
       "      <td>574441</td>\n",
       "      <td>3.453824e+07</td>\n",
       "      <td>1.255484e+07</td>\n",
       "      <td>1.576240e+14</td>\n",
       "    </tr>\n",
       "    <tr>\n",
       "      <th>4</th>\n",
       "      <td>566788</td>\n",
       "      <td>2.007715e+07</td>\n",
       "      <td>6.024951e+06</td>\n",
       "      <td>3.630003e+13</td>\n",
       "    </tr>\n",
       "    <tr>\n",
       "      <th>...</th>\n",
       "      <td>...</td>\n",
       "      <td>...</td>\n",
       "      <td>...</td>\n",
       "      <td>...</td>\n",
       "    </tr>\n",
       "    <tr>\n",
       "      <th>118</th>\n",
       "      <td>97034</td>\n",
       "      <td>3.521712e+07</td>\n",
       "      <td>2.592217e+07</td>\n",
       "      <td>6.719588e+14</td>\n",
       "    </tr>\n",
       "    <tr>\n",
       "      <th>119</th>\n",
       "      <td>43367/00696</td>\n",
       "      <td>4.541501e+07</td>\n",
       "      <td>1.839337e+07</td>\n",
       "      <td>3.383161e+14</td>\n",
       "    </tr>\n",
       "    <tr>\n",
       "      <th>120</th>\n",
       "      <td>43367/00702</td>\n",
       "      <td>4.579781e+07</td>\n",
       "      <td>1.903158e+07</td>\n",
       "      <td>3.622012e+14</td>\n",
       "    </tr>\n",
       "    <tr>\n",
       "      <th>121</th>\n",
       "      <td>585934</td>\n",
       "      <td>4.107983e+07</td>\n",
       "      <td>2.574718e+07</td>\n",
       "      <td>6.629174e+14</td>\n",
       "    </tr>\n",
       "    <tr>\n",
       "      <th>122</th>\n",
       "      <td>573792</td>\n",
       "      <td>1.553630e+07</td>\n",
       "      <td>1.627918e+07</td>\n",
       "      <td>2.650116e+14</td>\n",
       "    </tr>\n",
       "  </tbody>\n",
       "</table>\n",
       "<p>123 rows × 4 columns</p>\n",
       "</div>"
      ],
      "text/plain": [
       "           ACCID  Mean_MAX_Traffic_kbps  Std_MAX_Traffic_kbps  \\\n",
       "0         598943           4.916501e+06          4.053484e+06   \n",
       "1         598636           2.051834e+07          7.978786e+06   \n",
       "2         598636           2.055947e+07          7.933603e+06   \n",
       "3         574441           3.453824e+07          1.255484e+07   \n",
       "4         566788           2.007715e+07          6.024951e+06   \n",
       "..           ...                    ...                   ...   \n",
       "118        97034           3.521712e+07          2.592217e+07   \n",
       "119  43367/00696           4.541501e+07          1.839337e+07   \n",
       "120  43367/00702           4.579781e+07          1.903158e+07   \n",
       "121       585934           4.107983e+07          2.574718e+07   \n",
       "122       573792           1.553630e+07          1.627918e+07   \n",
       "\n",
       "     Var_MAX_Traffic_kbps  \n",
       "0            1.643073e+13  \n",
       "1            6.366102e+13  \n",
       "2            6.294205e+13  \n",
       "3            1.576240e+14  \n",
       "4            3.630003e+13  \n",
       "..                    ...  \n",
       "118          6.719588e+14  \n",
       "119          3.383161e+14  \n",
       "120          3.622012e+14  \n",
       "121          6.629174e+14  \n",
       "122          2.650116e+14  \n",
       "\n",
       "[123 rows x 4 columns]"
      ]
     },
     "execution_count": 53,
     "metadata": {},
     "output_type": "execute_result"
    }
   ],
   "source": [
    "df_var_trafego = df[['ACCID','Mean_MAX_Traffic_kbps','Std_MAX_Traffic_kbps','Var_MAX_Traffic_kbps']]\n",
    "df_var_trafego"
   ]
  },
  {
   "cell_type": "code",
   "execution_count": 116,
   "metadata": {},
   "outputs": [
    {
     "data": {
      "text/plain": [
       "ACCID                     object\n",
       "Mean_MAX_Traffic_kbps    float64\n",
       "Std_MAX_Traffic_kbps     float64\n",
       "Var_MAX_Traffic_kbps     float64\n",
       "dtype: object"
      ]
     },
     "execution_count": 116,
     "metadata": {},
     "output_type": "execute_result"
    }
   ],
   "source": [
    "df_var_trafego.dtypes"
   ]
  },
  {
   "cell_type": "code",
   "execution_count": 114,
   "metadata": {},
   "outputs": [
    {
     "data": {
      "text/html": [
       "<div>\n",
       "<style scoped>\n",
       "    .dataframe tbody tr th:only-of-type {\n",
       "        vertical-align: middle;\n",
       "    }\n",
       "\n",
       "    .dataframe tbody tr th {\n",
       "        vertical-align: top;\n",
       "    }\n",
       "\n",
       "    .dataframe thead th {\n",
       "        text-align: right;\n",
       "    }\n",
       "</style>\n",
       "<table border=\"1\" class=\"dataframe\">\n",
       "  <thead>\n",
       "    <tr style=\"text-align: right;\">\n",
       "      <th></th>\n",
       "      <th>Mean_MAX_Traffic_kbps</th>\n",
       "      <th>Std_MAX_Traffic_kbps</th>\n",
       "      <th>Var_MAX_Traffic_kbps</th>\n",
       "    </tr>\n",
       "  </thead>\n",
       "  <tbody>\n",
       "    <tr>\n",
       "      <th>Mean_MAX_Traffic_kbps</th>\n",
       "      <td>1.000000</td>\n",
       "      <td>0.486922</td>\n",
       "      <td>0.400605</td>\n",
       "    </tr>\n",
       "    <tr>\n",
       "      <th>Std_MAX_Traffic_kbps</th>\n",
       "      <td>0.486922</td>\n",
       "      <td>1.000000</td>\n",
       "      <td>0.958385</td>\n",
       "    </tr>\n",
       "    <tr>\n",
       "      <th>Var_MAX_Traffic_kbps</th>\n",
       "      <td>0.400605</td>\n",
       "      <td>0.958385</td>\n",
       "      <td>1.000000</td>\n",
       "    </tr>\n",
       "  </tbody>\n",
       "</table>\n",
       "</div>"
      ],
      "text/plain": [
       "                       Mean_MAX_Traffic_kbps  Std_MAX_Traffic_kbps  \\\n",
       "Mean_MAX_Traffic_kbps               1.000000              0.486922   \n",
       "Std_MAX_Traffic_kbps                0.486922              1.000000   \n",
       "Var_MAX_Traffic_kbps                0.400605              0.958385   \n",
       "\n",
       "                       Var_MAX_Traffic_kbps  \n",
       "Mean_MAX_Traffic_kbps              0.400605  \n",
       "Std_MAX_Traffic_kbps               0.958385  \n",
       "Var_MAX_Traffic_kbps               1.000000  "
      ]
     },
     "execution_count": 114,
     "metadata": {},
     "output_type": "execute_result"
    }
   ],
   "source": [
    "#Analise a matriz de correlação dos dados\n",
    "\n",
    "#cálculo da matriz de correlação\n",
    "\n",
    "C = df_var_trafego.iloc[:,].corr()\n",
    "C"
   ]
  },
  {
   "cell_type": "code",
   "execution_count": 95,
   "metadata": {
    "scrolled": true
   },
   "outputs": [],
   "source": [
    "#Determinando Autovalores e Autovetores\n",
    "import numpy as np\n",
    "autovalores, autovetores = np.linalg.eig(C)"
   ]
  },
  {
   "cell_type": "code",
   "execution_count": 96,
   "metadata": {},
   "outputs": [
    {
     "name": "stdout",
     "output_type": "stream",
     "text": [
      "Autovalores:[2.26912715 0.69416999 0.03670286]\n"
     ]
    }
   ],
   "source": [
    "#imprimindo autovalores de C\n",
    "print(\"Autovalores:{}\".format(autovalores))"
   ]
  },
  {
   "cell_type": "code",
   "execution_count": 97,
   "metadata": {
    "scrolled": true
   },
   "outputs": [
    {
     "name": "stdout",
     "output_type": "stream",
     "text": [
      "Autovetores:[[ 0.44369807  0.89258072  0.08019775]\n",
      " [ 0.64223077 -0.25427966 -0.72310545]\n",
      " [ 0.62503733 -0.37234596  0.6860662 ]]\n"
     ]
    }
   ],
   "source": [
    "#imprimindo autovetores de c\n",
    "print(\"Autovetores:{}\".format(autovetores))"
   ]
  },
  {
   "cell_type": "code",
   "execution_count": 98,
   "metadata": {},
   "outputs": [],
   "source": [
    "#Ordenando os autovalores do maior para o menor. Necessario apenas se não estiverem ordenados\n",
    "\n",
    "pares_autos = [(np.abs(autovalores[i]),\n",
    "                autovetores[:,i]) \n",
    "               for i in range(len(autovalores))]\n",
    "\n",
    "pares_autos.sort()\n",
    "#pares_autos\n",
    "pares_autos.reverse()\n"
   ]
  },
  {
   "cell_type": "code",
   "execution_count": 99,
   "metadata": {},
   "outputs": [
    {
     "data": {
      "text/plain": [
       "[(2.269127154978225, array([0.44369807, 0.64223077, 0.62503733])),\n",
       " (0.6941699864403721, array([ 0.89258072, -0.25427966, -0.37234596])),\n",
       " (0.03670285858140138, array([ 0.08019775, -0.72310545,  0.6860662 ]))]"
      ]
     },
     "execution_count": 99,
     "metadata": {},
     "output_type": "execute_result"
    }
   ],
   "source": [
    "pares_autos"
   ]
  },
  {
   "cell_type": "code",
   "execution_count": 100,
   "metadata": {},
   "outputs": [],
   "source": [
    "#variancia explicada acumulada de cada autovalor\n",
    "soma_total = sum(autovalores)"
   ]
  },
  {
   "cell_type": "code",
   "execution_count": 101,
   "metadata": {},
   "outputs": [],
   "source": [
    "var = [(i/soma_total)*100 for i in sorted(autovalores, reverse=True)]"
   ]
  },
  {
   "cell_type": "code",
   "execution_count": 102,
   "metadata": {},
   "outputs": [],
   "source": [
    "acum_var = np.cumsum(var)"
   ]
  },
  {
   "cell_type": "code",
   "execution_count": 103,
   "metadata": {},
   "outputs": [],
   "source": [
    "x = ['PCA %s' %i for i in range(1, len(autovalores) +1)]"
   ]
  },
  {
   "cell_type": "code",
   "execution_count": 104,
   "metadata": {},
   "outputs": [
    {
     "data": {
      "text/plain": [
       "['PCA 1', 'PCA 2', 'PCA 3']"
      ]
     },
     "execution_count": 104,
     "metadata": {},
     "output_type": "execute_result"
    }
   ],
   "source": [
    "x"
   ]
  },
  {
   "cell_type": "code",
   "execution_count": 105,
   "metadata": {},
   "outputs": [],
   "source": [
    "df_pca = pd.DataFrame({\n",
    "    'autovalores':autovalores,\n",
    "    'acum_var':acum_var,\n",
    "    'var':var,\n",
    "    'componente_P':x\n",
    "    })"
   ]
  },
  {
   "cell_type": "code",
   "execution_count": 106,
   "metadata": {},
   "outputs": [
    {
     "data": {
      "text/html": [
       "<div>\n",
       "<style scoped>\n",
       "    .dataframe tbody tr th:only-of-type {\n",
       "        vertical-align: middle;\n",
       "    }\n",
       "\n",
       "    .dataframe tbody tr th {\n",
       "        vertical-align: top;\n",
       "    }\n",
       "\n",
       "    .dataframe thead th {\n",
       "        text-align: right;\n",
       "    }\n",
       "</style>\n",
       "<table border=\"1\" class=\"dataframe\">\n",
       "  <thead>\n",
       "    <tr style=\"text-align: right;\">\n",
       "      <th></th>\n",
       "      <th>autovalores</th>\n",
       "      <th>acum_var</th>\n",
       "      <th>var</th>\n",
       "      <th>componente_P</th>\n",
       "    </tr>\n",
       "  </thead>\n",
       "  <tbody>\n",
       "    <tr>\n",
       "      <th>0</th>\n",
       "      <td>2.269127</td>\n",
       "      <td>75.637572</td>\n",
       "      <td>75.637572</td>\n",
       "      <td>PCA 1</td>\n",
       "    </tr>\n",
       "    <tr>\n",
       "      <th>1</th>\n",
       "      <td>0.694170</td>\n",
       "      <td>98.776571</td>\n",
       "      <td>23.139000</td>\n",
       "      <td>PCA 2</td>\n",
       "    </tr>\n",
       "    <tr>\n",
       "      <th>2</th>\n",
       "      <td>0.036703</td>\n",
       "      <td>100.000000</td>\n",
       "      <td>1.223429</td>\n",
       "      <td>PCA 3</td>\n",
       "    </tr>\n",
       "  </tbody>\n",
       "</table>\n",
       "</div>"
      ],
      "text/plain": [
       "   autovalores    acum_var        var componente_P\n",
       "0     2.269127   75.637572  75.637572        PCA 1\n",
       "1     0.694170   98.776571  23.139000        PCA 2\n",
       "2     0.036703  100.000000   1.223429        PCA 3"
      ]
     },
     "execution_count": 106,
     "metadata": {},
     "output_type": "execute_result"
    }
   ],
   "source": [
    "df_pca"
   ]
  },
  {
   "cell_type": "code",
   "execution_count": 117,
   "metadata": {},
   "outputs": [
    {
     "data": {
      "text/html": [
       "<div>\n",
       "<style scoped>\n",
       "    .dataframe tbody tr th:only-of-type {\n",
       "        vertical-align: middle;\n",
       "    }\n",
       "\n",
       "    .dataframe tbody tr th {\n",
       "        vertical-align: top;\n",
       "    }\n",
       "\n",
       "    .dataframe thead th {\n",
       "        text-align: right;\n",
       "    }\n",
       "</style>\n",
       "<table border=\"1\" class=\"dataframe\">\n",
       "  <thead>\n",
       "    <tr style=\"text-align: right;\">\n",
       "      <th></th>\n",
       "      <th>Mean_MAX_Traffic_kbps</th>\n",
       "      <th>Std_MAX_Traffic_kbps</th>\n",
       "      <th>Var_MAX_Traffic_kbps</th>\n",
       "    </tr>\n",
       "  </thead>\n",
       "  <tbody>\n",
       "    <tr>\n",
       "      <th>0</th>\n",
       "      <td>4.916501e+06</td>\n",
       "      <td>4.053484e+06</td>\n",
       "      <td>1.643073e+13</td>\n",
       "    </tr>\n",
       "    <tr>\n",
       "      <th>1</th>\n",
       "      <td>2.051834e+07</td>\n",
       "      <td>7.978786e+06</td>\n",
       "      <td>6.366102e+13</td>\n",
       "    </tr>\n",
       "    <tr>\n",
       "      <th>2</th>\n",
       "      <td>2.055947e+07</td>\n",
       "      <td>7.933603e+06</td>\n",
       "      <td>6.294205e+13</td>\n",
       "    </tr>\n",
       "    <tr>\n",
       "      <th>3</th>\n",
       "      <td>3.453824e+07</td>\n",
       "      <td>1.255484e+07</td>\n",
       "      <td>1.576240e+14</td>\n",
       "    </tr>\n",
       "    <tr>\n",
       "      <th>4</th>\n",
       "      <td>2.007715e+07</td>\n",
       "      <td>6.024951e+06</td>\n",
       "      <td>3.630003e+13</td>\n",
       "    </tr>\n",
       "    <tr>\n",
       "      <th>...</th>\n",
       "      <td>...</td>\n",
       "      <td>...</td>\n",
       "      <td>...</td>\n",
       "    </tr>\n",
       "    <tr>\n",
       "      <th>118</th>\n",
       "      <td>3.521712e+07</td>\n",
       "      <td>2.592217e+07</td>\n",
       "      <td>6.719588e+14</td>\n",
       "    </tr>\n",
       "    <tr>\n",
       "      <th>119</th>\n",
       "      <td>4.541501e+07</td>\n",
       "      <td>1.839337e+07</td>\n",
       "      <td>3.383161e+14</td>\n",
       "    </tr>\n",
       "    <tr>\n",
       "      <th>120</th>\n",
       "      <td>4.579781e+07</td>\n",
       "      <td>1.903158e+07</td>\n",
       "      <td>3.622012e+14</td>\n",
       "    </tr>\n",
       "    <tr>\n",
       "      <th>121</th>\n",
       "      <td>4.107983e+07</td>\n",
       "      <td>2.574718e+07</td>\n",
       "      <td>6.629174e+14</td>\n",
       "    </tr>\n",
       "    <tr>\n",
       "      <th>122</th>\n",
       "      <td>1.553630e+07</td>\n",
       "      <td>1.627918e+07</td>\n",
       "      <td>2.650116e+14</td>\n",
       "    </tr>\n",
       "  </tbody>\n",
       "</table>\n",
       "<p>123 rows × 3 columns</p>\n",
       "</div>"
      ],
      "text/plain": [
       "     Mean_MAX_Traffic_kbps  Std_MAX_Traffic_kbps  Var_MAX_Traffic_kbps\n",
       "0             4.916501e+06          4.053484e+06          1.643073e+13\n",
       "1             2.051834e+07          7.978786e+06          6.366102e+13\n",
       "2             2.055947e+07          7.933603e+06          6.294205e+13\n",
       "3             3.453824e+07          1.255484e+07          1.576240e+14\n",
       "4             2.007715e+07          6.024951e+06          3.630003e+13\n",
       "..                     ...                   ...                   ...\n",
       "118           3.521712e+07          2.592217e+07          6.719588e+14\n",
       "119           4.541501e+07          1.839337e+07          3.383161e+14\n",
       "120           4.579781e+07          1.903158e+07          3.622012e+14\n",
       "121           4.107983e+07          2.574718e+07          6.629174e+14\n",
       "122           1.553630e+07          1.627918e+07          2.650116e+14\n",
       "\n",
       "[123 rows x 3 columns]"
      ]
     },
     "execution_count": 117,
     "metadata": {},
     "output_type": "execute_result"
    }
   ],
   "source": [
    "X = df_var_trafego.drop(\"ACCID\",1)\n",
    "X"
   ]
  },
  {
   "cell_type": "code",
   "execution_count": 118,
   "metadata": {},
   "outputs": [
    {
     "data": {
      "text/plain": [
       "[array([0.44369807, 0.64223077, 0.62503733]),\n",
       " array([ 0.89258072, -0.25427966, -0.37234596]),\n",
       " array([ 0.08019775, -0.72310545,  0.6860662 ])]"
      ]
     },
     "execution_count": 118,
     "metadata": {},
     "output_type": "execute_result"
    }
   ],
   "source": [
    "autovetores"
   ]
  },
  {
   "cell_type": "code",
   "execution_count": 164,
   "metadata": {
    "scrolled": true
   },
   "outputs": [],
   "source": [
    "n_comp = df_pca.shape[0]\n",
    "autovetores = [p[1] for p in pares_autos]\n",
    "A = autovetores[0:n_comp]\n",
    "X = np.dot(X,np.array(A).T) \n",
    "df_new = pd.DataFrame(X,columns = x)\n",
    "df_new['ACCID'] = df['ACCID']\n"
   ]
  },
  {
   "cell_type": "code",
   "execution_count": 163,
   "metadata": {},
   "outputs": [
    {
     "data": {
      "text/html": [
       "<div>\n",
       "<style scoped>\n",
       "    .dataframe tbody tr th:only-of-type {\n",
       "        vertical-align: middle;\n",
       "    }\n",
       "\n",
       "    .dataframe tbody tr th {\n",
       "        vertical-align: top;\n",
       "    }\n",
       "\n",
       "    .dataframe thead th {\n",
       "        text-align: right;\n",
       "    }\n",
       "</style>\n",
       "<table border=\"1\" class=\"dataframe\">\n",
       "  <thead>\n",
       "    <tr style=\"text-align: right;\">\n",
       "      <th></th>\n",
       "      <th>PCA 1</th>\n",
       "      <th>PCA 2</th>\n",
       "      <th>PCA 3</th>\n",
       "      <th>ACCID</th>\n",
       "    </tr>\n",
       "  </thead>\n",
       "  <tbody>\n",
       "    <tr>\n",
       "      <th>0</th>\n",
       "      <td>1.020106e+13</td>\n",
       "      <td>1.214249e+13</td>\n",
       "      <td>4.297353e+12</td>\n",
       "      <td>598943</td>\n",
       "    </tr>\n",
       "    <tr>\n",
       "      <th>1</th>\n",
       "      <td>3.952411e+13</td>\n",
       "      <td>4.704619e+13</td>\n",
       "      <td>1.665013e+13</td>\n",
       "      <td>598636</td>\n",
       "    </tr>\n",
       "    <tr>\n",
       "      <th>2</th>\n",
       "      <td>3.907773e+13</td>\n",
       "      <td>4.651486e+13</td>\n",
       "      <td>1.646209e+13</td>\n",
       "      <td>598636</td>\n",
       "    </tr>\n",
       "    <tr>\n",
       "      <th>3</th>\n",
       "      <td>9.786124e+13</td>\n",
       "      <td>1.164858e+14</td>\n",
       "      <td>4.122556e+13</td>\n",
       "      <td>574441</td>\n",
       "    </tr>\n",
       "    <tr>\n",
       "      <th>4</th>\n",
       "      <td>2.253697e+13</td>\n",
       "      <td>2.682612e+13</td>\n",
       "      <td>9.494032e+12</td>\n",
       "      <td>566788</td>\n",
       "    </tr>\n",
       "    <tr>\n",
       "      <th>...</th>\n",
       "      <td>...</td>\n",
       "      <td>...</td>\n",
       "      <td>...</td>\n",
       "      <td>...</td>\n",
       "    </tr>\n",
       "    <tr>\n",
       "      <th>118</th>\n",
       "      <td>4.171873e+14</td>\n",
       "      <td>4.965849e+14</td>\n",
       "      <td>1.757467e+14</td>\n",
       "      <td>97034</td>\n",
       "    </tr>\n",
       "    <tr>\n",
       "      <th>119</th>\n",
       "      <td>2.100444e+14</td>\n",
       "      <td>2.500193e+14</td>\n",
       "      <td>8.848446e+13</td>\n",
       "      <td>43367/00696</td>\n",
       "    </tr>\n",
       "    <tr>\n",
       "      <th>120</th>\n",
       "      <td>2.248735e+14</td>\n",
       "      <td>2.676706e+14</td>\n",
       "      <td>9.473148e+13</td>\n",
       "      <td>43367/00702</td>\n",
       "    </tr>\n",
       "    <tr>\n",
       "      <th>121</th>\n",
       "      <td>4.115739e+14</td>\n",
       "      <td>4.899031e+14</td>\n",
       "      <td>1.733820e+14</td>\n",
       "      <td>585934</td>\n",
       "    </tr>\n",
       "    <tr>\n",
       "      <th>122</th>\n",
       "      <td>1.645331e+14</td>\n",
       "      <td>1.958465e+14</td>\n",
       "      <td>6.931217e+13</td>\n",
       "      <td>573792</td>\n",
       "    </tr>\n",
       "  </tbody>\n",
       "</table>\n",
       "<p>123 rows × 4 columns</p>\n",
       "</div>"
      ],
      "text/plain": [
       "            PCA 1         PCA 2         PCA 3        ACCID\n",
       "0    1.020106e+13  1.214249e+13  4.297353e+12       598943\n",
       "1    3.952411e+13  4.704619e+13  1.665013e+13       598636\n",
       "2    3.907773e+13  4.651486e+13  1.646209e+13       598636\n",
       "3    9.786124e+13  1.164858e+14  4.122556e+13       574441\n",
       "4    2.253697e+13  2.682612e+13  9.494032e+12       566788\n",
       "..            ...           ...           ...          ...\n",
       "118  4.171873e+14  4.965849e+14  1.757467e+14        97034\n",
       "119  2.100444e+14  2.500193e+14  8.848446e+13  43367/00696\n",
       "120  2.248735e+14  2.676706e+14  9.473148e+13  43367/00702\n",
       "121  4.115739e+14  4.899031e+14  1.733820e+14       585934\n",
       "122  1.645331e+14  1.958465e+14  6.931217e+13       573792\n",
       "\n",
       "[123 rows x 4 columns]"
      ]
     },
     "execution_count": 163,
     "metadata": {},
     "output_type": "execute_result"
    }
   ],
   "source": [
    "df_new"
   ]
  },
  {
   "cell_type": "code",
   "execution_count": 112,
   "metadata": {},
   "outputs": [
    {
     "data": {
      "text/html": [
       "<div>\n",
       "<style scoped>\n",
       "    .dataframe tbody tr th:only-of-type {\n",
       "        vertical-align: middle;\n",
       "    }\n",
       "\n",
       "    .dataframe tbody tr th {\n",
       "        vertical-align: top;\n",
       "    }\n",
       "\n",
       "    .dataframe thead th {\n",
       "        text-align: right;\n",
       "    }\n",
       "</style>\n",
       "<table border=\"1\" class=\"dataframe\">\n",
       "  <thead>\n",
       "    <tr style=\"text-align: right;\">\n",
       "      <th></th>\n",
       "      <th>PCA 1</th>\n",
       "      <th>PCA 2</th>\n",
       "      <th>PCA 3</th>\n",
       "    </tr>\n",
       "  </thead>\n",
       "  <tbody>\n",
       "    <tr>\n",
       "      <th>PCA 1</th>\n",
       "      <td>1.117938e+28</td>\n",
       "      <td>9.506337e+27</td>\n",
       "      <td>1.891247e+28</td>\n",
       "    </tr>\n",
       "    <tr>\n",
       "      <th>PCA 2</th>\n",
       "      <td>9.506337e+27</td>\n",
       "      <td>8.083672e+27</td>\n",
       "      <td>1.608214e+28</td>\n",
       "    </tr>\n",
       "    <tr>\n",
       "      <th>PCA 3</th>\n",
       "      <td>1.891247e+28</td>\n",
       "      <td>1.608214e+28</td>\n",
       "      <td>3.199476e+28</td>\n",
       "    </tr>\n",
       "  </tbody>\n",
       "</table>\n",
       "</div>"
      ],
      "text/plain": [
       "              PCA 1         PCA 2         PCA 3\n",
       "PCA 1  1.117938e+28  9.506337e+27  1.891247e+28\n",
       "PCA 2  9.506337e+27  8.083672e+27  1.608214e+28\n",
       "PCA 3  1.891247e+28  1.608214e+28  3.199476e+28"
      ]
     },
     "execution_count": 112,
     "metadata": {},
     "output_type": "execute_result"
    }
   ],
   "source": [
    "# verificar se a variancia de PCA1,PCA2,.... são iguais aos autovalores\n",
    "\n",
    "df_new.drop('ACCID',1).cov()"
   ]
  },
  {
   "cell_type": "code",
   "execution_count": 119,
   "metadata": {
    "scrolled": false
   },
   "outputs": [
    {
     "name": "stderr",
     "output_type": "stream",
     "text": [
      "C:\\ProgramData\\Anaconda3\\lib\\site-packages\\seaborn\\distributions.py:283: UserWarning: Data must have variance to compute a kernel density estimate.\n",
      "  warnings.warn(msg, UserWarning)\n",
      "C:\\ProgramData\\Anaconda3\\lib\\site-packages\\seaborn\\distributions.py:283: UserWarning: Data must have variance to compute a kernel density estimate.\n",
      "  warnings.warn(msg, UserWarning)\n",
      "C:\\ProgramData\\Anaconda3\\lib\\site-packages\\seaborn\\distributions.py:283: UserWarning: Data must have variance to compute a kernel density estimate.\n",
      "  warnings.warn(msg, UserWarning)\n"
     ]
    },
    {
     "data": {
      "image/png": "[encoded data removed]",
      "text/plain": [
       "<Figure size 643.125x540 with 12 Axes>"
      ]
     },
     "metadata": {
      "needs_background": "light"
     },
     "output_type": "display_data"
    }
   ],
   "source": [
    "sns.pairplot(\n",
    "    df_new, vars = x, hue='ACCID'\n",
    ")\n",
    "plt.show()"
   ]
  },
  {
   "cell_type": "code",
   "execution_count": 120,
   "metadata": {},
   "outputs": [
    {
     "data": {
      "image/png": "[encoded data removed]",
      "text/plain": [
       "<Figure size 432x288 with 1 Axes>"
      ]
     },
     "metadata": {
      "needs_background": "light"
     },
     "output_type": "display_data"
    },
    {
     "data": {
      "image/png": "[encoded data removed]",
      "text/plain": [
       "<Figure size 432x288 with 1 Axes>"
      ]
     },
     "metadata": {
      "needs_background": "light"
     },
     "output_type": "display_data"
    }
   ],
   "source": [
    "#verificar acumu_var\n",
    "\n",
    "plt.figure(1)\n",
    "plt.semilogy(df_pca['var'])\n",
    "plt.title('singular Values')\n",
    "plt.show()\n",
    "\n",
    "plt.figure(2)\n",
    "plt.plot(np.cumsum(df_pca['var'])/np.sum(df_pca['var']))\n",
    "plt.title('Singular Values: Cumulative Sum')\n",
    "plt.show()"
   ]
  },
  {
   "cell_type": "code",
   "execution_count": 127,
   "metadata": {},
   "outputs": [
    {
     "name": "stderr",
     "output_type": "stream",
     "text": [
      "C:\\ProgramData\\Anaconda3\\lib\\site-packages\\seaborn\\distributions.py:283: UserWarning: Data must have variance to compute a kernel density estimate.\n",
      "  warnings.warn(msg, UserWarning)\n",
      "C:\\ProgramData\\Anaconda3\\lib\\site-packages\\seaborn\\distributions.py:283: UserWarning: Data must have variance to compute a kernel density estimate.\n",
      "  warnings.warn(msg, UserWarning)\n",
      "C:\\ProgramData\\Anaconda3\\lib\\site-packages\\seaborn\\distributions.py:283: UserWarning: Data must have variance to compute a kernel density estimate.\n",
      "  warnings.warn(msg, UserWarning)\n"
     ]
    },
    {
     "data": {
      "image/png": "[encoded data removed]",
      "text/plain": [
       "<Figure size 643.125x540 with 12 Axes>"
      ]
     },
     "metadata": {
      "needs_background": "light"
     },
     "output_type": "display_data"
    }
   ],
   "source": [
    "#variaveis com dataset original\n",
    "\n",
    "sns.pairplot(\n",
    "    df_var_trafego,\n",
    "    vars = X,\n",
    "    hue = 'ACCID'\n",
    ")\n",
    "plt.show()"
   ]
  },
  {
   "cell_type": "markdown",
   "metadata": {},
   "source": [
    "# Aplicando PCA com Sklearn"
   ]
  },
  {
   "cell_type": "code",
   "execution_count": 170,
   "metadata": {},
   "outputs": [],
   "source": [
    "from sklearn.decomposition import PCA"
   ]
  },
  {
   "cell_type": "code",
   "execution_count": 171,
   "metadata": {},
   "outputs": [
    {
     "data": {
      "text/plain": [
       "PCA(n_components=3)"
      ]
     },
     "execution_count": 171,
     "metadata": {},
     "output_type": "execute_result"
    }
   ],
   "source": [
    "pca = PCA(n_components = n_comp)\n",
    "pca.fit(X)"
   ]
  },
  {
   "cell_type": "code",
   "execution_count": 172,
   "metadata": {},
   "outputs": [
    {
     "data": {
      "text/plain": [
       "array([5.12578148e+28, 2.16835666e+14, 3.23804571e+12])"
      ]
     },
     "execution_count": 172,
     "metadata": {},
     "output_type": "execute_result"
    }
   ],
   "source": [
    "#Autovalores\n",
    "pca.explained_variance_"
   ]
  },
  {
   "cell_type": "code",
   "execution_count": 173,
   "metadata": {},
   "outputs": [
    {
     "data": {
      "text/plain": [
       "array([[ 0.91356123,  0.2688607 , -0.30515537],\n",
       "       [-0.40641921,  0.63145192, -0.66037255],\n",
       "       [ 0.01514272,  0.72731176,  0.68614014]])"
      ]
     },
     "execution_count": 173,
     "metadata": {},
     "output_type": "execute_result"
    }
   ],
   "source": [
    "#autovetores\n",
    "pca.components_"
   ]
  },
  {
   "cell_type": "code",
   "execution_count": 174,
   "metadata": {
    "scrolled": true
   },
   "outputs": [
    {
     "data": {
      "text/plain": [
       "array([1.00000000e+00, 4.23029478e-15, 6.31717471e-17])"
      ]
     },
     "execution_count": 174,
     "metadata": {},
     "output_type": "execute_result"
    }
   ],
   "source": [
    "#Variancia explicada\n",
    "pca.explained_variance_ratio_"
   ]
  },
  {
   "cell_type": "code",
   "execution_count": 175,
   "metadata": {},
   "outputs": [],
   "source": [
    "X = pca.transform(X)"
   ]
  },
  {
   "cell_type": "code",
   "execution_count": 177,
   "metadata": {},
   "outputs": [],
   "source": [
    "new_df = pd.DataFrame(X, columns=['pc1','pc2','pc3'])"
   ]
  },
  {
   "cell_type": "code",
   "execution_count": 180,
   "metadata": {},
   "outputs": [
    {
     "data": {
      "text/html": [
       "<div>\n",
       "<style scoped>\n",
       "    .dataframe tbody tr th:only-of-type {\n",
       "        vertical-align: middle;\n",
       "    }\n",
       "\n",
       "    .dataframe tbody tr th {\n",
       "        vertical-align: top;\n",
       "    }\n",
       "\n",
       "    .dataframe thead th {\n",
       "        text-align: right;\n",
       "    }\n",
       "</style>\n",
       "<table border=\"1\" class=\"dataframe\">\n",
       "  <thead>\n",
       "    <tr style=\"text-align: right;\">\n",
       "      <th></th>\n",
       "      <th>pc1</th>\n",
       "      <th>pc2</th>\n",
       "      <th>pc3</th>\n",
       "    </tr>\n",
       "  </thead>\n",
       "  <tbody>\n",
       "    <tr>\n",
       "      <th>0</th>\n",
       "      <td>-2.651011e+14</td>\n",
       "      <td>-1.591592e+07</td>\n",
       "      <td>2.719585e+06</td>\n",
       "    </tr>\n",
       "    <tr>\n",
       "      <th>1</th>\n",
       "      <td>-2.178709e+14</td>\n",
       "      <td>-1.539688e+06</td>\n",
       "      <td>9.295937e+05</td>\n",
       "    </tr>\n",
       "    <tr>\n",
       "      <th>2</th>\n",
       "      <td>-2.185898e+14</td>\n",
       "      <td>-1.479515e+06</td>\n",
       "      <td>9.571188e+05</td>\n",
       "    </tr>\n",
       "    <tr>\n",
       "      <th>3</th>\n",
       "      <td>-1.239079e+14</td>\n",
       "      <td>9.893976e+06</td>\n",
       "      <td>-3.085351e+05</td>\n",
       "    </tr>\n",
       "    <tr>\n",
       "      <th>4</th>\n",
       "      <td>-2.452318e+14</td>\n",
       "      <td>-1.266011e+06</td>\n",
       "      <td>2.104336e+06</td>\n",
       "    </tr>\n",
       "    <tr>\n",
       "      <th>...</th>\n",
       "      <td>...</td>\n",
       "      <td>...</td>\n",
       "      <td>...</td>\n",
       "    </tr>\n",
       "    <tr>\n",
       "      <th>118</th>\n",
       "      <td>3.904269e+14</td>\n",
       "      <td>-4.097504e+06</td>\n",
       "      <td>5.313313e+05</td>\n",
       "    </tr>\n",
       "    <tr>\n",
       "      <th>119</th>\n",
       "      <td>5.678419e+13</td>\n",
       "      <td>1.566259e+07</td>\n",
       "      <td>-5.882146e+05</td>\n",
       "    </tr>\n",
       "    <tr>\n",
       "      <th>120</th>\n",
       "      <td>8.066934e+13</td>\n",
       "      <td>1.536455e+07</td>\n",
       "      <td>-5.479461e+05</td>\n",
       "    </tr>\n",
       "    <tr>\n",
       "      <th>121</th>\n",
       "      <td>3.813855e+14</td>\n",
       "      <td>2.017969e+06</td>\n",
       "      <td>7.692513e+05</td>\n",
       "    </tr>\n",
       "    <tr>\n",
       "      <th>122</th>\n",
       "      <td>-1.652024e+13</td>\n",
       "      <td>-1.209419e+07</td>\n",
       "      <td>-2.083893e+06</td>\n",
       "    </tr>\n",
       "  </tbody>\n",
       "</table>\n",
       "<p>123 rows × 3 columns</p>\n",
       "</div>"
      ],
      "text/plain": [
       "              pc1           pc2           pc3\n",
       "0   -2.651011e+14 -1.591592e+07  2.719585e+06\n",
       "1   -2.178709e+14 -1.539688e+06  9.295937e+05\n",
       "2   -2.185898e+14 -1.479515e+06  9.571188e+05\n",
       "3   -1.239079e+14  9.893976e+06 -3.085351e+05\n",
       "4   -2.452318e+14 -1.266011e+06  2.104336e+06\n",
       "..            ...           ...           ...\n",
       "118  3.904269e+14 -4.097504e+06  5.313313e+05\n",
       "119  5.678419e+13  1.566259e+07 -5.882146e+05\n",
       "120  8.066934e+13  1.536455e+07 -5.479461e+05\n",
       "121  3.813855e+14  2.017969e+06  7.692513e+05\n",
       "122 -1.652024e+13 -1.209419e+07 -2.083893e+06\n",
       "\n",
       "[123 rows x 3 columns]"
      ]
     },
     "execution_count": 180,
     "metadata": {},
     "output_type": "execute_result"
    }
   ],
   "source": [
    "new_df"
   ]
  },
  {
   "cell_type": "code",
   "execution_count": 179,
   "metadata": {},
   "outputs": [
    {
     "data": {
      "text/html": [
       "<div>\n",
       "<style scoped>\n",
       "    .dataframe tbody tr th:only-of-type {\n",
       "        vertical-align: middle;\n",
       "    }\n",
       "\n",
       "    .dataframe tbody tr th {\n",
       "        vertical-align: top;\n",
       "    }\n",
       "\n",
       "    .dataframe thead th {\n",
       "        text-align: right;\n",
       "    }\n",
       "</style>\n",
       "<table border=\"1\" class=\"dataframe\">\n",
       "  <thead>\n",
       "    <tr style=\"text-align: right;\">\n",
       "      <th></th>\n",
       "      <th>pc1</th>\n",
       "      <th>pc2</th>\n",
       "      <th>pc3</th>\n",
       "    </tr>\n",
       "  </thead>\n",
       "  <tbody>\n",
       "    <tr>\n",
       "      <th>pc1</th>\n",
       "      <td>5.125781e+28</td>\n",
       "      <td>9.495883e+13</td>\n",
       "      <td>-3.521963e+12</td>\n",
       "    </tr>\n",
       "    <tr>\n",
       "      <th>pc2</th>\n",
       "      <td>9.495883e+13</td>\n",
       "      <td>2.168357e+14</td>\n",
       "      <td>-1.204856e+04</td>\n",
       "    </tr>\n",
       "    <tr>\n",
       "      <th>pc3</th>\n",
       "      <td>-3.521963e+12</td>\n",
       "      <td>-1.204856e+04</td>\n",
       "      <td>3.238046e+12</td>\n",
       "    </tr>\n",
       "  </tbody>\n",
       "</table>\n",
       "</div>"
      ],
      "text/plain": [
       "              pc1           pc2           pc3\n",
       "pc1  5.125781e+28  9.495883e+13 -3.521963e+12\n",
       "pc2  9.495883e+13  2.168357e+14 -1.204856e+04\n",
       "pc3 -3.521963e+12 -1.204856e+04  3.238046e+12"
      ]
     },
     "execution_count": 179,
     "metadata": {},
     "output_type": "execute_result"
    }
   ],
   "source": [
    "new_df.cov()"
   ]
  },
  {
   "cell_type": "code",
   "execution_count": null,
   "metadata": {},
   "outputs": [],
   "source": []
  }
 ],
 "metadata": {
  "kernelspec": {
   "display_name": "Python 3",
   "language": "python",
   "name": "python3"
  },
  "language_info": {
   "codemirror_mode": {
    "name": "ipython",
    "version": 3
   },
   "file_extension": ".py",
   "mimetype": "text/x-python",
   "name": "python",
   "nbconvert_exporter": "python",
   "pygments_lexer": "ipython3",
   "version": "3.8.3"
  }
 },
 "nbformat": 4,
 "nbformat_minor": 4
}
